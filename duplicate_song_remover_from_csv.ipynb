{
  "nbformat": 4,
  "nbformat_minor": 0,
  "metadata": {
    "colab": {
      "provenance": []
    },
    "kernelspec": {
      "name": "python3",
      "display_name": "Python 3"
    },
    "language_info": {
      "name": "python"
    }
  },
  "cells": [
    {
      "cell_type": "code",
      "execution_count": null,
      "metadata": {
        "colab": {
          "base_uri": "https://localhost:8080/"
        },
        "id": "JR3lNzijf7AH",
        "outputId": "28825b09-19be-441f-8296-44e6ad3ab707"
      },
      "outputs": [
        {
          "output_type": "stream",
          "name": "stdout",
          "text": [
            "Drive already mounted at /content/drive; to attempt to forcibly remount, call drive.mount(\"/content/drive\", force_remount=True).\n"
          ]
        }
      ],
      "source": [
        "#Connect to google drive to access the files\n",
        "from google.colab import drive\n",
        "drive.mount('/content/drive')"
      ]
    },
    {
      "cell_type": "code",
      "source": [
        "#library imports\n",
        "  #required to run the ML and the preprocessing stages, plus visualization\n",
        "import matplotlib.pyplot as plt\n",
        "import pandas as pd\n",
        "from google.colab import files"
      ],
      "metadata": {
        "id": "vXGNhYVvgFg7"
      },
      "execution_count": null,
      "outputs": []
    },
    {
      "cell_type": "code",
      "source": [
        "#now import the csv file\n",
        "df_combine = pd.read_csv('/content/drive/MyDrive/ESOF-4969 Degree Project/Data Batches/file.csv')\n",
        "#REMEMBER TO CHANGE THIS FOR YOUR OWN STUFF!!\n",
        "#df_combine = pd.read_csv('file.csv')"
      ],
      "metadata": {
        "id": "bd1tERSPgc1O"
      },
      "execution_count": null,
      "outputs": []
    },
    {
      "cell_type": "code",
      "source": [
        "# display information on dataset\n",
        "df_combine.info()"
      ],
      "metadata": {
        "colab": {
          "base_uri": "https://localhost:8080/"
        },
        "id": "RGnVY779hAi8",
        "outputId": "6fad956e-50ff-4600-da00-b72ad2098b81"
      },
      "execution_count": null,
      "outputs": [
        {
          "output_type": "stream",
          "name": "stdout",
          "text": [
            "<class 'pandas.core.frame.DataFrame'>\n",
            "RangeIndex: 72105 entries, 0 to 72104\n",
            "Columns: 686 entries, Unnamed: 0 to Channel2_327\n",
            "dtypes: float64(20), int64(660), object(6)\n",
            "memory usage: 377.4+ MB\n"
          ]
        }
      ]
    },
    {
      "cell_type": "code",
      "source": [
        "df_combine.head()"
      ],
      "metadata": {
        "colab": {
          "base_uri": "https://localhost:8080/",
          "height": 456
        },
        "id": "wohqViC8i8BF",
        "outputId": "265c5fc5-7eeb-44fb-9660-4026ac8118b0"
      },
      "execution_count": null,
      "outputs": [
        {
          "output_type": "execute_result",
          "data": {
            "text/plain": [
              "   Unnamed: 0                 TrackID         TrackName                Album  \\\n",
              "0           0  37Jdi2cCSRA5jl6zADeLOy  D R O V E MY CAR         1 Trait High   \n",
              "1           1  14jLrcO0NGIxtX56LHEhsv          Reprisal   1 Trait World Tour   \n",
              "2           2  7dcNDXD9SwJ4Txqg2fE2t8            Danger   Back from the Dead   \n",
              "3           3  0ackjn8zBcLQnkeRPeOCVj            Danger               Danger   \n",
              "4           4  1wDY9VWdCoRjLV4gUyYf52            Danger  In Transit (Deluxe)   \n",
              "\n",
              "                                          PreviewURL      ArtistName  \\\n",
              "0  https://p.scdn.co/mp3-preview/ab54f8f789175d42...  1 Trait Danger   \n",
              "1  https://p.scdn.co/mp3-preview/ffe73947f36e6e15...  1 Trait Danger   \n",
              "2  https://p.scdn.co/mp3-preview/1ae38bb85e0313f6...        LUCKY3RD   \n",
              "3  https://p.scdn.co/mp3-preview/ab856e3e92deddc1...       Cooliecut   \n",
              "4  https://p.scdn.co/mp3-preview/61586296e9713d07...           Terri   \n",
              "\n",
              "          Genre  Duration  Danceability  Energy  ...  Channel2_318  \\\n",
              "0    comedy rap    120937         0.601   0.827  ...           896   \n",
              "1    comedy rap    100634         0.391   0.575  ...         -1289   \n",
              "2   houston rap    181395         0.802   0.511  ...         -1197   \n",
              "3     dark trap     96052         0.720   0.569  ...          3429   \n",
              "4  nigerian pop    157648         0.514   0.582  ...          -220   \n",
              "\n",
              "   Channel2_319  Channel2_320  Channel2_321  Channel2_322  Channel2_323  \\\n",
              "0        -18226         -5812          4875         -7218          8262   \n",
              "1          2746          1653           614          1316          -472   \n",
              "2         -1213         -3706         -1938         -3796           361   \n",
              "3          9928        -26812         10141         17013         16055   \n",
              "4         -6064          9413          4410          -177           507   \n",
              "\n",
              "   Channel2_324  Channel2_325  Channel2_326  Channel2_327  \n",
              "0         14948           -10          8951         -6552  \n",
              "1          3823           672          -251          2903  \n",
              "2          -140          1618          -494         -1781  \n",
              "3         16658         12518         19679          8613  \n",
              "4          6667         -8546        -20569          2043  \n",
              "\n",
              "[5 rows x 686 columns]"
            ],
            "text/html": [
              "\n",
              "  <div id=\"df-3692f0ae-c816-499a-be1e-c6103f263016\">\n",
              "    <div class=\"colab-df-container\">\n",
              "      <div>\n",
              "<style scoped>\n",
              "    .dataframe tbody tr th:only-of-type {\n",
              "        vertical-align: middle;\n",
              "    }\n",
              "\n",
              "    .dataframe tbody tr th {\n",
              "        vertical-align: top;\n",
              "    }\n",
              "\n",
              "    .dataframe thead th {\n",
              "        text-align: right;\n",
              "    }\n",
              "</style>\n",
              "<table border=\"1\" class=\"dataframe\">\n",
              "  <thead>\n",
              "    <tr style=\"text-align: right;\">\n",
              "      <th></th>\n",
              "      <th>Unnamed: 0</th>\n",
              "      <th>TrackID</th>\n",
              "      <th>TrackName</th>\n",
              "      <th>Album</th>\n",
              "      <th>PreviewURL</th>\n",
              "      <th>ArtistName</th>\n",
              "      <th>Genre</th>\n",
              "      <th>Duration</th>\n",
              "      <th>Danceability</th>\n",
              "      <th>Energy</th>\n",
              "      <th>...</th>\n",
              "      <th>Channel2_318</th>\n",
              "      <th>Channel2_319</th>\n",
              "      <th>Channel2_320</th>\n",
              "      <th>Channel2_321</th>\n",
              "      <th>Channel2_322</th>\n",
              "      <th>Channel2_323</th>\n",
              "      <th>Channel2_324</th>\n",
              "      <th>Channel2_325</th>\n",
              "      <th>Channel2_326</th>\n",
              "      <th>Channel2_327</th>\n",
              "    </tr>\n",
              "  </thead>\n",
              "  <tbody>\n",
              "    <tr>\n",
              "      <th>0</th>\n",
              "      <td>0</td>\n",
              "      <td>37Jdi2cCSRA5jl6zADeLOy</td>\n",
              "      <td>D R O V E MY CAR</td>\n",
              "      <td>1 Trait High</td>\n",
              "      <td>https://p.scdn.co/mp3-preview/ab54f8f789175d42...</td>\n",
              "      <td>1 Trait Danger</td>\n",
              "      <td>comedy rap</td>\n",
              "      <td>120937</td>\n",
              "      <td>0.601</td>\n",
              "      <td>0.827</td>\n",
              "      <td>...</td>\n",
              "      <td>896</td>\n",
              "      <td>-18226</td>\n",
              "      <td>-5812</td>\n",
              "      <td>4875</td>\n",
              "      <td>-7218</td>\n",
              "      <td>8262</td>\n",
              "      <td>14948</td>\n",
              "      <td>-10</td>\n",
              "      <td>8951</td>\n",
              "      <td>-6552</td>\n",
              "    </tr>\n",
              "    <tr>\n",
              "      <th>1</th>\n",
              "      <td>1</td>\n",
              "      <td>14jLrcO0NGIxtX56LHEhsv</td>\n",
              "      <td>Reprisal</td>\n",
              "      <td>1 Trait World Tour</td>\n",
              "      <td>https://p.scdn.co/mp3-preview/ffe73947f36e6e15...</td>\n",
              "      <td>1 Trait Danger</td>\n",
              "      <td>comedy rap</td>\n",
              "      <td>100634</td>\n",
              "      <td>0.391</td>\n",
              "      <td>0.575</td>\n",
              "      <td>...</td>\n",
              "      <td>-1289</td>\n",
              "      <td>2746</td>\n",
              "      <td>1653</td>\n",
              "      <td>614</td>\n",
              "      <td>1316</td>\n",
              "      <td>-472</td>\n",
              "      <td>3823</td>\n",
              "      <td>672</td>\n",
              "      <td>-251</td>\n",
              "      <td>2903</td>\n",
              "    </tr>\n",
              "    <tr>\n",
              "      <th>2</th>\n",
              "      <td>2</td>\n",
              "      <td>7dcNDXD9SwJ4Txqg2fE2t8</td>\n",
              "      <td>Danger</td>\n",
              "      <td>Back from the Dead</td>\n",
              "      <td>https://p.scdn.co/mp3-preview/1ae38bb85e0313f6...</td>\n",
              "      <td>LUCKY3RD</td>\n",
              "      <td>houston rap</td>\n",
              "      <td>181395</td>\n",
              "      <td>0.802</td>\n",
              "      <td>0.511</td>\n",
              "      <td>...</td>\n",
              "      <td>-1197</td>\n",
              "      <td>-1213</td>\n",
              "      <td>-3706</td>\n",
              "      <td>-1938</td>\n",
              "      <td>-3796</td>\n",
              "      <td>361</td>\n",
              "      <td>-140</td>\n",
              "      <td>1618</td>\n",
              "      <td>-494</td>\n",
              "      <td>-1781</td>\n",
              "    </tr>\n",
              "    <tr>\n",
              "      <th>3</th>\n",
              "      <td>3</td>\n",
              "      <td>0ackjn8zBcLQnkeRPeOCVj</td>\n",
              "      <td>Danger</td>\n",
              "      <td>Danger</td>\n",
              "      <td>https://p.scdn.co/mp3-preview/ab856e3e92deddc1...</td>\n",
              "      <td>Cooliecut</td>\n",
              "      <td>dark trap</td>\n",
              "      <td>96052</td>\n",
              "      <td>0.720</td>\n",
              "      <td>0.569</td>\n",
              "      <td>...</td>\n",
              "      <td>3429</td>\n",
              "      <td>9928</td>\n",
              "      <td>-26812</td>\n",
              "      <td>10141</td>\n",
              "      <td>17013</td>\n",
              "      <td>16055</td>\n",
              "      <td>16658</td>\n",
              "      <td>12518</td>\n",
              "      <td>19679</td>\n",
              "      <td>8613</td>\n",
              "    </tr>\n",
              "    <tr>\n",
              "      <th>4</th>\n",
              "      <td>4</td>\n",
              "      <td>1wDY9VWdCoRjLV4gUyYf52</td>\n",
              "      <td>Danger</td>\n",
              "      <td>In Transit (Deluxe)</td>\n",
              "      <td>https://p.scdn.co/mp3-preview/61586296e9713d07...</td>\n",
              "      <td>Terri</td>\n",
              "      <td>nigerian pop</td>\n",
              "      <td>157648</td>\n",
              "      <td>0.514</td>\n",
              "      <td>0.582</td>\n",
              "      <td>...</td>\n",
              "      <td>-220</td>\n",
              "      <td>-6064</td>\n",
              "      <td>9413</td>\n",
              "      <td>4410</td>\n",
              "      <td>-177</td>\n",
              "      <td>507</td>\n",
              "      <td>6667</td>\n",
              "      <td>-8546</td>\n",
              "      <td>-20569</td>\n",
              "      <td>2043</td>\n",
              "    </tr>\n",
              "  </tbody>\n",
              "</table>\n",
              "<p>5 rows × 686 columns</p>\n",
              "</div>\n",
              "      <button class=\"colab-df-convert\" onclick=\"convertToInteractive('df-3692f0ae-c816-499a-be1e-c6103f263016')\"\n",
              "              title=\"Convert this dataframe to an interactive table.\"\n",
              "              style=\"display:none;\">\n",
              "        \n",
              "  <svg xmlns=\"http://www.w3.org/2000/svg\" height=\"24px\"viewBox=\"0 0 24 24\"\n",
              "       width=\"24px\">\n",
              "    <path d=\"M0 0h24v24H0V0z\" fill=\"none\"/>\n",
              "    <path d=\"M18.56 5.44l.94 2.06.94-2.06 2.06-.94-2.06-.94-.94-2.06-.94 2.06-2.06.94zm-11 1L8.5 8.5l.94-2.06 2.06-.94-2.06-.94L8.5 2.5l-.94 2.06-2.06.94zm10 10l.94 2.06.94-2.06 2.06-.94-2.06-.94-.94-2.06-.94 2.06-2.06.94z\"/><path d=\"M17.41 7.96l-1.37-1.37c-.4-.4-.92-.59-1.43-.59-.52 0-1.04.2-1.43.59L10.3 9.45l-7.72 7.72c-.78.78-.78 2.05 0 2.83L4 21.41c.39.39.9.59 1.41.59.51 0 1.02-.2 1.41-.59l7.78-7.78 2.81-2.81c.8-.78.8-2.07 0-2.86zM5.41 20L4 18.59l7.72-7.72 1.47 1.35L5.41 20z\"/>\n",
              "  </svg>\n",
              "      </button>\n",
              "      \n",
              "  <style>\n",
              "    .colab-df-container {\n",
              "      display:flex;\n",
              "      flex-wrap:wrap;\n",
              "      gap: 12px;\n",
              "    }\n",
              "\n",
              "    .colab-df-convert {\n",
              "      background-color: #E8F0FE;\n",
              "      border: none;\n",
              "      border-radius: 50%;\n",
              "      cursor: pointer;\n",
              "      display: none;\n",
              "      fill: #1967D2;\n",
              "      height: 32px;\n",
              "      padding: 0 0 0 0;\n",
              "      width: 32px;\n",
              "    }\n",
              "\n",
              "    .colab-df-convert:hover {\n",
              "      background-color: #E2EBFA;\n",
              "      box-shadow: 0px 1px 2px rgba(60, 64, 67, 0.3), 0px 1px 3px 1px rgba(60, 64, 67, 0.15);\n",
              "      fill: #174EA6;\n",
              "    }\n",
              "\n",
              "    [theme=dark] .colab-df-convert {\n",
              "      background-color: #3B4455;\n",
              "      fill: #D2E3FC;\n",
              "    }\n",
              "\n",
              "    [theme=dark] .colab-df-convert:hover {\n",
              "      background-color: #434B5C;\n",
              "      box-shadow: 0px 1px 3px 1px rgba(0, 0, 0, 0.15);\n",
              "      filter: drop-shadow(0px 1px 2px rgba(0, 0, 0, 0.3));\n",
              "      fill: #FFFFFF;\n",
              "    }\n",
              "  </style>\n",
              "\n",
              "      <script>\n",
              "        const buttonEl =\n",
              "          document.querySelector('#df-3692f0ae-c816-499a-be1e-c6103f263016 button.colab-df-convert');\n",
              "        buttonEl.style.display =\n",
              "          google.colab.kernel.accessAllowed ? 'block' : 'none';\n",
              "\n",
              "        async function convertToInteractive(key) {\n",
              "          const element = document.querySelector('#df-3692f0ae-c816-499a-be1e-c6103f263016');\n",
              "          const dataTable =\n",
              "            await google.colab.kernel.invokeFunction('convertToInteractive',\n",
              "                                                     [key], {});\n",
              "          if (!dataTable) return;\n",
              "\n",
              "          const docLinkHtml = 'Like what you see? Visit the ' +\n",
              "            '<a target=\"_blank\" href=https://colab.research.google.com/notebooks/data_table.ipynb>data table notebook</a>'\n",
              "            + ' to learn more about interactive tables.';\n",
              "          element.innerHTML = '';\n",
              "          dataTable['output_type'] = 'display_data';\n",
              "          await google.colab.output.renderOutput(dataTable, element);\n",
              "          const docLink = document.createElement('div');\n",
              "          docLink.innerHTML = docLinkHtml;\n",
              "          element.appendChild(docLink);\n",
              "        }\n",
              "      </script>\n",
              "    </div>\n",
              "  </div>\n",
              "  "
            ]
          },
          "metadata": {},
          "execution_count": 18
        }
      ]
    },
    {
      "cell_type": "code",
      "source": [
        "#remove all instances, save for the last, of duplicate songs with an identical name and artist\n",
        "#removing duplicates based on ID number is not sufficient, as some tracks are uploaded to spotify on multiple albums, giving the same track multiple possible ID values\n",
        "df_dr = df_combine.drop_duplicates(subset = ['TrackName', 'ArtistName'], keep = 'last').reset_index(drop = True)"
      ],
      "metadata": {
        "id": "Tqi7y0Wqh-kH"
      },
      "execution_count": null,
      "outputs": []
    },
    {
      "cell_type": "code",
      "source": [
        "#drop null values\n",
        "df_nr = df_dr.dropna()"
      ],
      "metadata": {
        "id": "Wq17oJDwq1UO"
      },
      "execution_count": null,
      "outputs": []
    },
    {
      "cell_type": "code",
      "source": [
        "# display information on dataset to determine how many duplicates were removed\n",
        "df_nr.info()"
      ],
      "metadata": {
        "colab": {
          "base_uri": "https://localhost:8080/"
        },
        "id": "99-mhQ2Rk54r",
        "outputId": "9f6f931f-6b7d-4283-a89a-8c9f4f5e3c50"
      },
      "execution_count": null,
      "outputs": [
        {
          "output_type": "stream",
          "name": "stdout",
          "text": [
            "<class 'pandas.core.frame.DataFrame'>\n",
            "RangeIndex: 71151 entries, 0 to 71150\n",
            "Columns: 686 entries, Unnamed: 0 to Channel2_327\n",
            "dtypes: float64(20), int64(660), object(6)\n",
            "memory usage: 372.4+ MB\n"
          ]
        }
      ]
    },
    {
      "cell_type": "code",
      "source": [
        "df_nr.to_csv('final_output.csv', encoding = 'utf-8-sig') \n",
        "files.download('final_output.csv')"
      ],
      "metadata": {
        "colab": {
          "base_uri": "https://localhost:8080/",
          "height": 34
        },
        "id": "sj68Ys-onvLS",
        "outputId": "319b13d4-26d4-473c-fc06-9fe28b94dadc"
      },
      "execution_count": null,
      "outputs": [
        {
          "output_type": "display_data",
          "data": {
            "text/plain": [
              "<IPython.core.display.Javascript object>"
            ],
            "application/javascript": [
              "\n",
              "    async function download(id, filename, size) {\n",
              "      if (!google.colab.kernel.accessAllowed) {\n",
              "        return;\n",
              "      }\n",
              "      const div = document.createElement('div');\n",
              "      const label = document.createElement('label');\n",
              "      label.textContent = `Downloading \"${filename}\": `;\n",
              "      div.appendChild(label);\n",
              "      const progress = document.createElement('progress');\n",
              "      progress.max = size;\n",
              "      div.appendChild(progress);\n",
              "      document.body.appendChild(div);\n",
              "\n",
              "      const buffers = [];\n",
              "      let downloaded = 0;\n",
              "\n",
              "      const channel = await google.colab.kernel.comms.open(id);\n",
              "      // Send a message to notify the kernel that we're ready.\n",
              "      channel.send({})\n",
              "\n",
              "      for await (const message of channel.messages) {\n",
              "        // Send a message to notify the kernel that we're ready.\n",
              "        channel.send({})\n",
              "        if (message.buffers) {\n",
              "          for (const buffer of message.buffers) {\n",
              "            buffers.push(buffer);\n",
              "            downloaded += buffer.byteLength;\n",
              "            progress.value = downloaded;\n",
              "          }\n",
              "        }\n",
              "      }\n",
              "      const blob = new Blob(buffers, {type: 'application/binary'});\n",
              "      const a = document.createElement('a');\n",
              "      a.href = window.URL.createObjectURL(blob);\n",
              "      a.download = filename;\n",
              "      div.appendChild(a);\n",
              "      a.click();\n",
              "      div.remove();\n",
              "    }\n",
              "  "
            ]
          },
          "metadata": {}
        },
        {
          "output_type": "display_data",
          "data": {
            "text/plain": [
              "<IPython.core.display.Javascript object>"
            ],
            "application/javascript": [
              "download(\"download_f3299cd3-9b83-4e2b-af98-cfb8ab7af8ca\", \"final_output.csv\", 286615857)"
            ]
          },
          "metadata": {}
        }
      ]
    }
  ]
}